{
    "cells": [
        {
            "cell_type": "markdown",
            "metadata": {
                "collapsed": true
            },
            "source": "# Capstone Project - The Battle of Neighborhoods\nby Younggi Lee\n\n## 1. Introduction\n"
        },
        {
            "cell_type": "markdown",
            "metadata": {},
            "source": "    How do you know about the city, Toronto? Yes, it is the capital of the province of Ontario, which is a major Canadian city along Lake Ontario\u2019s northwestern shore. It's a dynamic metropolis with a core of soaring skyscrapers, all dwarfed by the iconic, free-standing CN Tower. Toronto also has many green spaces, from the orderly oval of Queen\u2019s Park to 400-acre High Park and its trails, sports facilities and zoo. However, these are well-known informations and visitors, business people, or future residents, they might want to know the neighborhood of the borough which they are willing to visit or move.\n    \n    So this project is going to introduce neighborhood of boroughs in the city of Toronto. The data will contains area codes, borough names, and neighborhood."
        },
        {
            "attachments": {},
            "cell_type": "markdown",
            "metadata": {},
            "source": "## 2. Solutions\n\n    The project will start will use collected Toronto data from wikipidia page:\n    \n    https://en.wikipedia.org/wiki/List_of_postal_codes_of_Canada:_M\n    \n    The data will be collected with python code which will perform extract and transform the dataset. In order to obtain the data that is in the table of postal codes and to transform the data into a pandas  dataframe like the one shown below:\n    \n    ![image.png](attachment:image.png)\n    \n    a. The dataframe will consist of three columns: PostalCode, Borough, and Neighborhood\n    b. Only process the cells that have an assigned borough. Ignore cells with a borough that is Not assigned\n    c. More than one neighborhood can exist in one postal code area. For example, in the table on the Wikipedia page, you will notice that M5A is listed twice and has two neighborhoods: Harbourfront and Regent Park. These two rows will be combined into one row with the neighborhoods separated with a comma as shown in row 11  in the above table.\n    d. If a cell has a borough but a Not assigned  neighborhood, then the neighborhood will be the same as the borough.\n    \n    In order to utilize the Foursquare location data, exact location data is required. Therefore, after all, we will get latitude and the longitude coordinates of each neighborhood. \n\n\n   "
        },
        {
            "cell_type": "code",
            "execution_count": null,
            "metadata": {},
            "outputs": [],
            "source": "    "
        },
        {
            "cell_type": "code",
            "execution_count": null,
            "metadata": {},
            "outputs": [],
            "source": ""
        }
    ],
    "metadata": {
        "kernelspec": {
            "display_name": "Python 3.7",
            "language": "python",
            "name": "python3"
        },
        "language_info": {
            "codemirror_mode": {
                "name": "ipython",
                "version": 3
            },
            "file_extension": ".py",
            "mimetype": "text/x-python",
            "name": "python",
            "nbconvert_exporter": "python",
            "pygments_lexer": "ipython3",
            "version": "3.7.9"
        }
    },
    "nbformat": 4,
    "nbformat_minor": 1
}